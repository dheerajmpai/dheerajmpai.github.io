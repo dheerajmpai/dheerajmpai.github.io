{
  "nbformat": 4,
  "nbformat_minor": 0,
  "metadata": {
    "colab": {
      "name": "Untitled1.ipynb",
      "version": "0.3.2",
      "provenance": [],
      "collapsed_sections": []
    },
    "kernelspec": {
      "name": "python3",
      "display_name": "Python 3"
    }
  },
  "cells": [
    {
      "cell_type": "markdown",
      "metadata": {
        "id": "view-in-github",
        "colab_type": "text"
      },
      "source": [
        "[View in Colaboratory](https://colab.research.google.com/github/dheerajmpai/pai.github.io/blob/master/Untitled1.ipynb)"
      ]
    },
    {
      "metadata": {
        "id": "WgxPSYDMHVBO",
        "colab_type": "code",
        "colab": {}
      },
      "cell_type": "code",
      "source": [
        "from __future__ import print_function, division\n",
        "import os\n",
        "import pandas as pd\n",
        "import numpy as np\n",
        "\n",
        "import torch\n",
        "import torch.nn as nn\n",
        "import torch.optim as optim\n",
        "import torch.nn.functional as F\n",
        "from torch.autograd import Variable\n",
        "from torchvision import transforms\n",
        "\n",
        "import argparse\n",
        "import tqdm\n",
        "# from tensorboardX import SummaryWriter\n",
        "\n",
        "import os\n",
        "from datetime import datetime\n",
        "import time\n",
        "import h5py"
      ],
      "execution_count": 0,
      "outputs": []
    },
    {
      "metadata": {
        "id": "BeQzGMAZHZY2",
        "colab_type": "code",
        "colab": {}
      },
      "cell_type": "code",
      "source": [
        "from codes import *\n",
        "from neural import *\n",
        "from MWPM_Helper import *"
      ],
      "execution_count": 0,
      "outputs": []
    },
    {
      "metadata": {
        "id": "_hCo1rKgH5kG",
        "colab_type": "code",
        "colab": {
          "base_uri": "https://localhost:8080/",
          "height": 2755
        },
        "outputId": "f2b306a9-ed04-458a-d3dd-e75a5e4d122b"
      },
      "cell_type": "code",
      "source": [
        "torch.utils.backcompat.broadcast_warning.enabled = True\n",
        "results_file_name = 'DATA_GENERATION.csv'\n",
        "\n",
        "use_gpu = False\n",
        "\n",
        "\n",
        "exp = 'May05'\n",
        "L_array = [3]\n",
        "p_array = np.arange(0.14,0.191,0.01)\n",
        "\n",
        "for zzzz in range(100):\n",
        "    for L in L_array:\n",
        "        M = L # number of rows in syndrome (multiple of 3)\n",
        "        N = L # number of columns in syndrome (multiple of 2)\n",
        "        batch_size = 500  # #\n",
        "\n",
        "        train_size = 1000000 ##\n",
        "        train_size = 100000\n",
        "\n",
        "        session_train_size = int(train_size)\n",
        "        num_epochs = 1\n",
        "\n",
        "        num_iterations = int(session_train_size/batch_size) - 1\n",
        "\n",
        "        learning_rate = 0.001\n",
        "        momentum = 0.5\n",
        "\n",
        "        X = True\n",
        "        Z = True\n",
        "\n",
        "\n",
        "        for perr in p_array:\n",
        "\n",
        "            prob = 1-perr\n",
        "\n",
        "\n",
        "\n",
        "            code = ToricCode(L)\n",
        "            out_dimZ = 2*L**2 * Z\n",
        "            out_dimX = 2*L**2 * X\n",
        "            in_dim = L**2 * (X+Z)\n",
        "            H = code.H(X, Z)\n",
        "            normcenterstab = None\n",
        "            normcentererr = None\n",
        "            normcentererr_p = None\n",
        "            dat = data_gen_MWPM_FC(H,L, out_dimZ, out_dimX, in_dim, prob, batch_size,\n",
        "                                normcenterstab=normcenterstab, normcentererr=normcentererr)\n",
        "\n",
        "            start_index = 0\n",
        "            batch_size = 500\n",
        "    #         data_storage_path = './data_storage/train' + str(L) + '-'+ str(float(\"{0:.2f}\".format(perr))) +'-'+ str(train_size) + '.h5'\n",
        "            print ('Initialising Data Generation!!')\n",
        "            for epoch in range(0, num_epochs):\n",
        "                create_h5_dataset = True\n",
        "                save_current_time = datetime.now().strftime('%b%d_%H-%M-%S')\n",
        "                data_storage_path = './DATA_GENERATION/L_' + str(L) +  '/FAST_DATA_GEN/' + str(L) + '-'+ str(float(\"{0:.4f}\".format(perr))) + '-' + str(train_size) + '-epoch=' +str(epoch)  + '-'+ str(save_current_time) + str(np.random.randint(0,10000)) + '.h5'    \n",
        "                #Seed_Uniquely for each perr and L \n",
        "#                 exp_name = str(L) + '-' + str(float(\"{0:.4f}\".format(perr))) + '-' + str(save_current_time) + '-' + str(num_epochs)\n",
        "#                 prg_seed = hash(exp_name) %10**8\n",
        "#                 np.random.seed(prg_seed)\n",
        "\n",
        "                for (syn, _, _, homology) in dat:\n",
        "                    train_syndrome = syn\n",
        "    #                 train_err = err\n",
        "                    train_homology = homology\n",
        "                    break\n",
        "\n",
        "                iteration = 0\n",
        "                for (syn,_,_,homology) in dat:\n",
        "\n",
        "                    with h5py.File(data_storage_path, 'a') as hf:\n",
        "                        if create_h5_dataset == True:\n",
        "                            hf.create_dataset('syn',maxshape=(None,None), chunks=True,data = train_syndrome)\n",
        "    #                         hf.create_dataset('err',maxshape=(None,None), chunks=True,data = train_err)\n",
        "                            hf.create_dataset('homology',maxshape=(None,None), chunks=True,data = train_homology)\n",
        "    #                         hf.create_dataset('homology_class',maxshape=(None,None), chunks=True,data = train_syndrome)\n",
        "                            create_h5_dataset = False\n",
        "                        hf[\"syn\"].resize((hf[\"syn\"].shape[0] + syn.shape[0]), axis = 0)\n",
        "                        hf[\"syn\"][-train_syndrome.shape[0]:] = syn\n",
        "\n",
        "    #                     hf['err'].resize((hf['err'].shape[0] + err.shape[0]), axis = 0)\n",
        "    #                     hf['err'][-train_err.shape[0]:] = err\n",
        "\n",
        "                        hf['homology'].resize((hf['homology'].shape[0] + homology.shape[0]), axis = 0)\n",
        "                        hf['homology'][-train_homology.shape[0]:] = homology\n",
        "                        print ('generating_data',iteration,zzzz,perr)\n",
        "\n",
        "                    iteration += 1\n",
        "                    if iteration>num_iterations:\n",
        "                        break\n",
        "                csv_string = str(save_current_time) + ',' + str('prg_seed') + ',' + str(M) + ',' + str(N) + ',' + str(perr) + ',' + str(data_storage_path) + '\\n'\n",
        "                mf = open(results_file_name,'a')\n",
        "                mf.write(csv_string)\n",
        "                mf.close()\n"
      ],
      "execution_count": 98,
      "outputs": [
        {
          "output_type": "stream",
          "text": [
            "Initialising Data Generation!!\n",
            "generating_data 0 0 0.14\n",
            "generating_data 1 0 0.14\n",
            "generating_data 2 0 0.14\n",
            "generating_data 3 0 0.14\n",
            "generating_data 4 0 0.14\n",
            "generating_data 5 0 0.14\n",
            "generating_data 6 0 0.14\n",
            "generating_data 7 0 0.14\n",
            "generating_data 8 0 0.14\n",
            "generating_data 9 0 0.14\n",
            "generating_data 10 0 0.14\n",
            "generating_data 11 0 0.14\n",
            "generating_data 12 0 0.14\n",
            "generating_data 13 0 0.14\n",
            "generating_data 14 0 0.14\n",
            "generating_data 15 0 0.14\n",
            "generating_data 16 0 0.14\n",
            "generating_data 17 0 0.14\n",
            "generating_data 18 0 0.14\n",
            "generating_data 19 0 0.14\n",
            "generating_data 20 0 0.14\n",
            "generating_data 21 0 0.14\n",
            "generating_data 22 0 0.14\n",
            "generating_data 23 0 0.14\n",
            "generating_data 24 0 0.14\n",
            "generating_data 25 0 0.14\n",
            "generating_data 26 0 0.14\n",
            "generating_data 27 0 0.14\n",
            "generating_data 28 0 0.14\n",
            "generating_data 29 0 0.14\n",
            "generating_data 30 0 0.14\n",
            "generating_data 31 0 0.14\n",
            "generating_data 32 0 0.14\n",
            "generating_data 33 0 0.14\n",
            "generating_data 34 0 0.14\n",
            "generating_data 35 0 0.14\n",
            "generating_data 36 0 0.14\n",
            "generating_data 37 0 0.14\n",
            "generating_data 38 0 0.14\n",
            "generating_data 39 0 0.14\n",
            "generating_data 40 0 0.14\n",
            "generating_data 41 0 0.14\n",
            "generating_data 42 0 0.14\n",
            "generating_data 43 0 0.14\n",
            "generating_data 44 0 0.14\n",
            "generating_data 45 0 0.14\n",
            "generating_data 46 0 0.14\n",
            "generating_data 47 0 0.14\n",
            "generating_data 48 0 0.14\n",
            "generating_data 49 0 0.14\n",
            "generating_data 50 0 0.14\n",
            "generating_data 51 0 0.14\n",
            "generating_data 52 0 0.14\n",
            "generating_data 53 0 0.14\n",
            "generating_data 54 0 0.14\n",
            "generating_data 55 0 0.14\n",
            "generating_data 56 0 0.14\n",
            "generating_data 57 0 0.14\n",
            "generating_data 58 0 0.14\n",
            "generating_data 59 0 0.14\n",
            "generating_data 60 0 0.14\n",
            "generating_data 61 0 0.14\n",
            "generating_data 62 0 0.14\n",
            "generating_data 63 0 0.14\n",
            "generating_data 64 0 0.14\n",
            "generating_data 65 0 0.14\n",
            "generating_data 66 0 0.14\n",
            "generating_data 67 0 0.14\n",
            "generating_data 68 0 0.14\n",
            "generating_data 69 0 0.14\n",
            "generating_data 70 0 0.14\n",
            "generating_data 71 0 0.14\n",
            "generating_data 72 0 0.14\n",
            "generating_data 73 0 0.14\n",
            "generating_data 74 0 0.14\n",
            "generating_data 75 0 0.14\n",
            "generating_data 76 0 0.14\n",
            "generating_data 77 0 0.14\n",
            "generating_data 78 0 0.14\n",
            "generating_data 79 0 0.14\n",
            "generating_data 80 0 0.14\n",
            "generating_data 81 0 0.14\n",
            "generating_data 82 0 0.14\n",
            "generating_data 83 0 0.14\n",
            "generating_data 84 0 0.14\n",
            "generating_data 85 0 0.14\n"
          ],
          "name": "stdout"
        },
        {
          "output_type": "stream",
          "text": [
            "generating_data 86 0 0.14\n",
            "generating_data 87 0 0.14\n",
            "generating_data 88 0 0.14\n",
            "generating_data 89 0 0.14\n",
            "generating_data 90 0 0.14\n",
            "generating_data 91 0 0.14\n",
            "generating_data 92 0 0.14\n",
            "generating_data 93 0 0.14\n",
            "generating_data 94 0 0.14\n",
            "generating_data 95 0 0.14\n",
            "generating_data 96 0 0.14\n",
            "generating_data 97 0 0.14\n",
            "generating_data 98 0 0.14\n",
            "generating_data 99 0 0.14\n",
            "generating_data 100 0 0.14\n",
            "generating_data 101 0 0.14\n"
          ],
          "name": "stdout"
        },
        {
          "output_type": "error",
          "ename": "KeyboardInterrupt",
          "evalue": "ignored",
          "traceback": [
            "\u001b[0;31m---------------------------------------------------------------------------\u001b[0m",
            "\u001b[0;31mKeyboardInterrupt\u001b[0m                         Traceback (most recent call last)",
            "\u001b[0;32m<ipython-input-98-f43c9839f816>\u001b[0m in \u001b[0;36m<module>\u001b[0;34m()\u001b[0m\n\u001b[1;32m     67\u001b[0m \u001b[0;34m\u001b[0m\u001b[0m\n\u001b[1;32m     68\u001b[0m                 \u001b[0miteration\u001b[0m \u001b[0;34m=\u001b[0m \u001b[0;36m0\u001b[0m\u001b[0;34m\u001b[0m\u001b[0m\n\u001b[0;32m---> 69\u001b[0;31m                 \u001b[0;32mfor\u001b[0m \u001b[0;34m(\u001b[0m\u001b[0msyn\u001b[0m\u001b[0;34m,\u001b[0m\u001b[0m_\u001b[0m\u001b[0;34m,\u001b[0m\u001b[0m_\u001b[0m\u001b[0;34m,\u001b[0m\u001b[0mhomology\u001b[0m\u001b[0;34m)\u001b[0m \u001b[0;32min\u001b[0m \u001b[0mdat\u001b[0m\u001b[0;34m:\u001b[0m\u001b[0;34m\u001b[0m\u001b[0m\n\u001b[0m\u001b[1;32m     70\u001b[0m \u001b[0;34m\u001b[0m\u001b[0m\n\u001b[1;32m     71\u001b[0m                     \u001b[0;32mwith\u001b[0m \u001b[0mh5py\u001b[0m\u001b[0;34m.\u001b[0m\u001b[0mFile\u001b[0m\u001b[0;34m(\u001b[0m\u001b[0mdata_storage_path\u001b[0m\u001b[0;34m,\u001b[0m \u001b[0;34m'a'\u001b[0m\u001b[0;34m)\u001b[0m \u001b[0;32mas\u001b[0m \u001b[0mhf\u001b[0m\u001b[0;34m:\u001b[0m\u001b[0;34m\u001b[0m\u001b[0m\n",
            "\u001b[0;32m/content/neural.py\u001b[0m in \u001b[0;36mdata_gen_MWPM_FC\u001b[0;34m(H, L, out_dimZ, out_dimX, in_dim, p, batch_size, size, normcenterstab, normcentererr)\u001b[0m\n\u001b[1;32m    178\u001b[0m         \u001b[0mstabs\u001b[0m \u001b[0;34m=\u001b[0m \u001b[0mnp\u001b[0m\u001b[0;34m.\u001b[0m\u001b[0mdot\u001b[0m\u001b[0;34m(\u001b[0m\u001b[0mflips\u001b[0m\u001b[0;34m,\u001b[0m\u001b[0mH\u001b[0m\u001b[0;34m.\u001b[0m\u001b[0mT\u001b[0m\u001b[0;34m)\u001b[0m\u001b[0;34m%\u001b[0m\u001b[0;36m2\u001b[0m\u001b[0;34m\u001b[0m\u001b[0m\n\u001b[1;32m    179\u001b[0m         \u001b[0;32mfor\u001b[0m \u001b[0mi\u001b[0m \u001b[0;32min\u001b[0m \u001b[0mrange\u001b[0m\u001b[0;34m(\u001b[0m\u001b[0mbatch_size\u001b[0m\u001b[0;34m)\u001b[0m\u001b[0;34m:\u001b[0m\u001b[0;34m\u001b[0m\u001b[0m\n\u001b[0;32m--> 180\u001b[0;31m             \u001b[0;34m(\u001b[0m\u001b[0mhomologies\u001b[0m\u001b[0;34m[\u001b[0m\u001b[0mi\u001b[0m\u001b[0;34m,\u001b[0m\u001b[0;34m:\u001b[0m\u001b[0;34m]\u001b[0m\u001b[0;34m,\u001b[0m\u001b[0mhomology_index\u001b[0m\u001b[0;34m[\u001b[0m\u001b[0mi\u001b[0m\u001b[0;34m,\u001b[0m\u001b[0;34m:\u001b[0m\u001b[0;34m]\u001b[0m\u001b[0;34m)\u001b[0m \u001b[0;34m=\u001b[0m \u001b[0mGet_logical\u001b[0m\u001b[0;34m(\u001b[0m\u001b[0mflips\u001b[0m\u001b[0;34m[\u001b[0m\u001b[0mi\u001b[0m\u001b[0;34m,\u001b[0m\u001b[0;34m:\u001b[0m\u001b[0;34m]\u001b[0m\u001b[0;34m,\u001b[0m\u001b[0mstabs\u001b[0m\u001b[0;34m[\u001b[0m\u001b[0mi\u001b[0m\u001b[0;34m,\u001b[0m\u001b[0;34m:\u001b[0m\u001b[0;34m]\u001b[0m\u001b[0;34m,\u001b[0m\u001b[0mL\u001b[0m\u001b[0;34m)\u001b[0m\u001b[0;34m\u001b[0m\u001b[0m\n\u001b[0m\u001b[1;32m    181\u001b[0m         \u001b[0;32mif\u001b[0m \u001b[0mnormcenterstab\u001b[0m\u001b[0;34m:\u001b[0m\u001b[0;34m\u001b[0m\u001b[0m\n\u001b[1;32m    182\u001b[0m             \u001b[0mstabs\u001b[0m \u001b[0;34m=\u001b[0m \u001b[0mdo_normcenterstab\u001b[0m\u001b[0;34m(\u001b[0m\u001b[0mstabs\u001b[0m\u001b[0;34m,\u001b[0m \u001b[0mp\u001b[0m\u001b[0;34m)\u001b[0m\u001b[0;34m\u001b[0m\u001b[0m\n",
            "\u001b[0;32m/content/MWPM_Helper.py\u001b[0m in \u001b[0;36mGet_logical\u001b[0;34m(err, syn, L)\u001b[0m\n\u001b[1;32m    240\u001b[0m     \u001b[0merr_x\u001b[0m \u001b[0;34m=\u001b[0m \u001b[0mnp\u001b[0m\u001b[0;34m.\u001b[0m\u001b[0mcopy\u001b[0m\u001b[0;34m(\u001b[0m\u001b[0merr\u001b[0m\u001b[0;34m[\u001b[0m\u001b[0;34m:\u001b[0m\u001b[0;36m2\u001b[0m\u001b[0;34m*\u001b[0m\u001b[0mL\u001b[0m\u001b[0;34m**\u001b[0m\u001b[0;36m2\u001b[0m\u001b[0;34m]\u001b[0m\u001b[0;34m)\u001b[0m\u001b[0;34m.\u001b[0m\u001b[0msqueeze\u001b[0m\u001b[0;34m(\u001b[0m\u001b[0;34m)\u001b[0m\u001b[0;34m\u001b[0m\u001b[0m\n\u001b[1;32m    241\u001b[0m     \u001b[0merr_x_hat\u001b[0m \u001b[0;34m=\u001b[0m \u001b[0mget_error_hat_x\u001b[0m\u001b[0;34m(\u001b[0m\u001b[0msyn_x\u001b[0m\u001b[0;34m,\u001b[0m\u001b[0mL\u001b[0m\u001b[0;34m)\u001b[0m\u001b[0;34m.\u001b[0m\u001b[0msqueeze\u001b[0m\u001b[0;34m(\u001b[0m\u001b[0;34m)\u001b[0m\u001b[0;34m\u001b[0m\u001b[0m\n\u001b[0;32m--> 242\u001b[0;31m     \u001b[0merr_z_hat\u001b[0m \u001b[0;34m=\u001b[0m \u001b[0mget_error_hat_z\u001b[0m\u001b[0;34m(\u001b[0m\u001b[0msyn_z\u001b[0m\u001b[0;34m,\u001b[0m\u001b[0mL\u001b[0m\u001b[0;34m)\u001b[0m\u001b[0;34m.\u001b[0m\u001b[0msqueeze\u001b[0m\u001b[0;34m(\u001b[0m\u001b[0;34m)\u001b[0m\u001b[0;34m\u001b[0m\u001b[0m\n\u001b[0m\u001b[1;32m    243\u001b[0m     \u001b[0mRuQ_x\u001b[0m \u001b[0;34m=\u001b[0m \u001b[0;34m(\u001b[0m\u001b[0merr_x_hat\u001b[0m\u001b[0;34m+\u001b[0m\u001b[0merr_x\u001b[0m\u001b[0;34m)\u001b[0m\u001b[0;34m%\u001b[0m\u001b[0;36m2\u001b[0m\u001b[0;34m\u001b[0m\u001b[0m\n\u001b[1;32m    244\u001b[0m     \u001b[0mRuQ_z\u001b[0m \u001b[0;34m=\u001b[0m \u001b[0;34m(\u001b[0m\u001b[0merr_z_hat\u001b[0m\u001b[0;34m+\u001b[0m\u001b[0merr_z\u001b[0m\u001b[0;34m)\u001b[0m\u001b[0;34m%\u001b[0m\u001b[0;36m2\u001b[0m\u001b[0;34m\u001b[0m\u001b[0m\n",
            "\u001b[0;32m/content/MWPM_Helper.py\u001b[0m in \u001b[0;36mget_error_hat_z\u001b[0;34m(syn_z, L)\u001b[0m\n\u001b[1;32m    166\u001b[0m \u001b[0;32mdef\u001b[0m \u001b[0mget_error_hat_z\u001b[0m\u001b[0;34m(\u001b[0m\u001b[0msyn_z\u001b[0m\u001b[0;34m,\u001b[0m\u001b[0mL\u001b[0m\u001b[0;34m)\u001b[0m\u001b[0;34m:\u001b[0m\u001b[0;34m\u001b[0m\u001b[0m\n\u001b[1;32m    167\u001b[0m     \u001b[0mG\u001b[0m \u001b[0;34m=\u001b[0m \u001b[0mconvert_syndrome_to_graph\u001b[0m\u001b[0;34m(\u001b[0m\u001b[0msyn_z\u001b[0m\u001b[0;34m,\u001b[0m\u001b[0mL\u001b[0m\u001b[0;34m)\u001b[0m\u001b[0;34m\u001b[0m\u001b[0m\n\u001b[0;32m--> 168\u001b[0;31m     \u001b[0mmate_z\u001b[0m \u001b[0;34m=\u001b[0m \u001b[0mnx\u001b[0m\u001b[0;34m.\u001b[0m\u001b[0mmax_weight_matching\u001b[0m\u001b[0;34m(\u001b[0m\u001b[0mG\u001b[0m\u001b[0;34m,\u001b[0m \u001b[0mmaxcardinality\u001b[0m\u001b[0;34m=\u001b[0m\u001b[0;32mTrue\u001b[0m\u001b[0;34m)\u001b[0m\u001b[0;34m\u001b[0m\u001b[0m\n\u001b[0m\u001b[1;32m    169\u001b[0m     \u001b[0merror_hat_z\u001b[0m \u001b[0;34m=\u001b[0m \u001b[0mmatch_the_syndromes_Z_error\u001b[0m\u001b[0;34m(\u001b[0m\u001b[0mmate_z\u001b[0m\u001b[0;34m,\u001b[0m\u001b[0mL\u001b[0m\u001b[0;34m)\u001b[0m\u001b[0;34m\u001b[0m\u001b[0m\n\u001b[1;32m    170\u001b[0m     \u001b[0;32mreturn\u001b[0m \u001b[0;34m(\u001b[0m\u001b[0merror_hat_z\u001b[0m\u001b[0;34m.\u001b[0m\u001b[0mreshape\u001b[0m\u001b[0;34m(\u001b[0m\u001b[0;36m2\u001b[0m\u001b[0;34m*\u001b[0m\u001b[0mL\u001b[0m\u001b[0;34m**\u001b[0m\u001b[0;36m2\u001b[0m\u001b[0;34m,\u001b[0m\u001b[0;36m1\u001b[0m\u001b[0;34m)\u001b[0m\u001b[0;34m)\u001b[0m\u001b[0;34m\u001b[0m\u001b[0m\n",
            "\u001b[0;32m/usr/local/lib/python3.6/dist-packages/networkx/algorithms/matching.py\u001b[0m in \u001b[0;36mmax_weight_matching\u001b[0;34m(G, maxcardinality, weight)\u001b[0m\n\u001b[1;32m    775\u001b[0m                             \u001b[0;31m# (C1) w is a free vertex;\u001b[0m\u001b[0;34m\u001b[0m\u001b[0;34m\u001b[0m\u001b[0m\n\u001b[1;32m    776\u001b[0m                             \u001b[0;31m# label w with T and label its mate with S (R12).\u001b[0m\u001b[0;34m\u001b[0m\u001b[0;34m\u001b[0m\u001b[0m\n\u001b[0;32m--> 777\u001b[0;31m                             \u001b[0massignLabel\u001b[0m\u001b[0;34m(\u001b[0m\u001b[0mw\u001b[0m\u001b[0;34m,\u001b[0m \u001b[0;36m2\u001b[0m\u001b[0;34m,\u001b[0m \u001b[0mv\u001b[0m\u001b[0;34m)\u001b[0m\u001b[0;34m\u001b[0m\u001b[0m\n\u001b[0m\u001b[1;32m    778\u001b[0m                         \u001b[0;32melif\u001b[0m \u001b[0mlabel\u001b[0m\u001b[0;34m.\u001b[0m\u001b[0mget\u001b[0m\u001b[0;34m(\u001b[0m\u001b[0mbw\u001b[0m\u001b[0;34m)\u001b[0m \u001b[0;34m==\u001b[0m \u001b[0;36m1\u001b[0m\u001b[0;34m:\u001b[0m\u001b[0;34m\u001b[0m\u001b[0m\n\u001b[1;32m    779\u001b[0m                             \u001b[0;31m# (C2) w is an S-vertex (not in the same blossom);\u001b[0m\u001b[0;34m\u001b[0m\u001b[0;34m\u001b[0m\u001b[0m\n",
            "\u001b[0;32m/usr/local/lib/python3.6/dist-packages/networkx/algorithms/matching.py\u001b[0m in \u001b[0;36massignLabel\u001b[0;34m(w, t, v)\u001b[0m\n\u001b[1;32m    355\u001b[0m             \u001b[0;31m# with an external mate.)\u001b[0m\u001b[0;34m\u001b[0m\u001b[0;34m\u001b[0m\u001b[0m\n\u001b[1;32m    356\u001b[0m             \u001b[0mbase\u001b[0m \u001b[0;34m=\u001b[0m \u001b[0mblossombase\u001b[0m\u001b[0;34m[\u001b[0m\u001b[0mb\u001b[0m\u001b[0;34m]\u001b[0m\u001b[0;34m\u001b[0m\u001b[0m\n\u001b[0;32m--> 357\u001b[0;31m             \u001b[0massignLabel\u001b[0m\u001b[0;34m(\u001b[0m\u001b[0mmate\u001b[0m\u001b[0;34m[\u001b[0m\u001b[0mbase\u001b[0m\u001b[0;34m]\u001b[0m\u001b[0;34m,\u001b[0m \u001b[0;36m1\u001b[0m\u001b[0;34m,\u001b[0m \u001b[0mbase\u001b[0m\u001b[0;34m)\u001b[0m\u001b[0;34m\u001b[0m\u001b[0m\n\u001b[0m\u001b[1;32m    358\u001b[0m \u001b[0;34m\u001b[0m\u001b[0m\n\u001b[1;32m    359\u001b[0m     \u001b[0;31m# Trace back from vertices v and w to discover either a new blossom\u001b[0m\u001b[0;34m\u001b[0m\u001b[0;34m\u001b[0m\u001b[0m\n",
            "\u001b[0;32m/usr/local/lib/python3.6/dist-packages/networkx/algorithms/matching.py\u001b[0m in \u001b[0;36massignLabel\u001b[0;34m(w, t, v)\u001b[0m\n\u001b[1;32m    335\u001b[0m     \u001b[0;31m# Assign label t to the top-level blossom containing vertex w,\u001b[0m\u001b[0;34m\u001b[0m\u001b[0;34m\u001b[0m\u001b[0m\n\u001b[1;32m    336\u001b[0m     \u001b[0;31m# coming through an edge from vertex v.\u001b[0m\u001b[0;34m\u001b[0m\u001b[0;34m\u001b[0m\u001b[0m\n\u001b[0;32m--> 337\u001b[0;31m     \u001b[0;32mdef\u001b[0m \u001b[0massignLabel\u001b[0m\u001b[0;34m(\u001b[0m\u001b[0mw\u001b[0m\u001b[0;34m,\u001b[0m \u001b[0mt\u001b[0m\u001b[0;34m,\u001b[0m \u001b[0mv\u001b[0m\u001b[0;34m)\u001b[0m\u001b[0;34m:\u001b[0m\u001b[0;34m\u001b[0m\u001b[0m\n\u001b[0m\u001b[1;32m    338\u001b[0m         \u001b[0mb\u001b[0m \u001b[0;34m=\u001b[0m \u001b[0minblossom\u001b[0m\u001b[0;34m[\u001b[0m\u001b[0mw\u001b[0m\u001b[0;34m]\u001b[0m\u001b[0;34m\u001b[0m\u001b[0m\n\u001b[1;32m    339\u001b[0m         \u001b[0;32massert\u001b[0m \u001b[0mlabel\u001b[0m\u001b[0;34m.\u001b[0m\u001b[0mget\u001b[0m\u001b[0;34m(\u001b[0m\u001b[0mw\u001b[0m\u001b[0;34m)\u001b[0m \u001b[0;32mis\u001b[0m \u001b[0;32mNone\u001b[0m \u001b[0;32mand\u001b[0m \u001b[0mlabel\u001b[0m\u001b[0;34m.\u001b[0m\u001b[0mget\u001b[0m\u001b[0;34m(\u001b[0m\u001b[0mb\u001b[0m\u001b[0;34m)\u001b[0m \u001b[0;32mis\u001b[0m \u001b[0;32mNone\u001b[0m\u001b[0;34m\u001b[0m\u001b[0m\n",
            "\u001b[0;31mKeyboardInterrupt\u001b[0m: "
          ]
        }
      ]
    },
    {
      "metadata": {
        "id": "WcRTh4O6IamG",
        "colab_type": "code",
        "colab": {
          "base_uri": "https://localhost:8080/",
          "height": 139
        },
        "outputId": "02b6f50e-c92b-4eae-ae28-3411a4e1df9a"
      },
      "cell_type": "code",
      "source": [
        "!df"
      ],
      "execution_count": 85,
      "outputs": [
        {
          "output_type": "stream",
          "text": [
            "Filesystem     1K-blocks    Used Available Use% Mounted on\r\n",
            "overlay         41022688 5193588  33715564  14% /\r\n",
            "tmpfs            6670916       0   6670916   0% /dev\r\n",
            "tmpfs            6670916       0   6670916   0% /sys/fs/cgroup\r\n",
            "/dev/sda1       47259264 6073680  41169200  13% /etc/hosts\r\n",
            "shm                65536       4     65532   1% /dev/shm\r\n",
            "tmpfs            6670916       0   6670916   0% /sys/firmware\r\n"
          ],
          "name": "stdout"
        }
      ]
    },
    {
      "metadata": {
        "id": "5pIwITxTJXmk",
        "colab_type": "code",
        "colab": {}
      },
      "cell_type": "code",
      "source": [
        "ff = open('filler.txt','a')\n",
        "for i in range(100000):\n",
        "  ff.write('sjdjnjsjkdcnjskjdvn')\n",
        "ff.close()"
      ],
      "execution_count": 0,
      "outputs": []
    },
    {
      "metadata": {
        "id": "rLxDWXF_J05K",
        "colab_type": "code",
        "colab": {
          "base_uri": "https://localhost:8080/",
          "height": 86
        },
        "outputId": "99d929ef-8c11-487f-8225-fb71ad5fdaab"
      },
      "cell_type": "code",
      "source": [
        "!python -m http.server"
      ],
      "execution_count": 111,
      "outputs": [
        {
          "output_type": "stream",
          "text": [
            "Serving HTTP on 0.0.0.0 port 8000 (http://0.0.0.0:8000/) ...\n",
            "^C\n",
            "\n",
            "Keyboard interrupt received, exiting.\n"
          ],
          "name": "stdout"
        }
      ]
    },
    {
      "metadata": {
        "id": "0Rr3LDIVJ346",
        "colab_type": "code",
        "colab": {}
      },
      "cell_type": "code",
      "source": [
        "from google.colab import files\n",
        "files.download('filler.txt')"
      ],
      "execution_count": 0,
      "outputs": []
    },
    {
      "metadata": {
        "id": "x2V_tUFeKPla",
        "colab_type": "code",
        "colab": {
          "base_uri": "https://localhost:8080/",
          "height": 34
        },
        "outputId": "72743b81-950f-4ce6-c611-08b0dd65369f"
      },
      "cell_type": "code",
      "source": [
        "!wget -qO- http://ipecho.net/plain ; echo"
      ],
      "execution_count": 110,
      "outputs": [
        {
          "output_type": "stream",
          "text": [
            "35.231.197.131\r\n"
          ],
          "name": "stdout"
        }
      ]
    },
    {
      "metadata": {
        "id": "Yio9CZ88OXuo",
        "colab_type": "code",
        "colab": {}
      },
      "cell_type": "code",
      "source": [
        ""
      ],
      "execution_count": 0,
      "outputs": []
    }
  ]
}